{
 "cells": [
  {
   "cell_type": "code",
   "execution_count": 1,
   "metadata": {},
   "outputs": [],
   "source": [
    "from quiddity_evaluate.evaluate import QuiddityEvaluator\n",
    "from quiddity_client.client import QuiddityClient"
   ]
  },
  {
   "cell_type": "code",
   "execution_count": 2,
   "metadata": {},
   "outputs": [
    {
     "name": "stdout",
     "output_type": "stream",
     "text": [
      "Documents uploaded.\n",
      "Performing search...\n",
      "Doc UUID 1966d2cd-5453-4e5f-9342-b9c82a15e0ba\n",
      "Document IDs found: ['1966d2cd-5453-4e5f-9342-b9c82a15e0ba', '644a506d-8384-42cc-ba51-686807e28c41', '81fd9553-a91a-487b-a23c-7d6149bd6268']\n",
      "Doc UUID 5df4ac28-481b-40dd-be26-a94fd5a2fa9f\n",
      "Document IDs found: ['644a506d-8384-42cc-ba51-686807e28c41', 'cc0b635f-71d3-46a2-b020-6affd8898546', '65ebf390-3ca3-4bb5-a7a0-2bb3aa9d4345']\n",
      "Doc UUID 6f3e2fdb-23c7-4219-ac0c-1f7aa4465417\n",
      "Document IDs found: ['6f3e2fdb-23c7-4219-ac0c-1f7aa4465417', '2a633032-1ce3-4d8f-8d5e-fd8d13f23573', '68e79d9c-75f3-4c66-bcae-339274fcd189']\n",
      "Doc UUID 3def3c03-ab5d-4424-a84c-fc6ac0e0c5d9\n",
      "Document IDs found: ['3def3c03-ab5d-4424-a84c-fc6ac0e0c5d9', 'cfcddef5-5468-41e8-ac1b-5c49cee64c63', '5aaec0dd-8b56-477d-ad77-3df52930f82c']\n",
      "Doc UUID 4f677f16-e4cc-452b-bab6-48b756a649f8\n",
      "Document IDs found: ['4f677f16-e4cc-452b-bab6-48b756a649f8', '0ccbf02b-6182-448d-b1fc-b4769f089a8d', '1ff10630-d52c-4378-bd2b-c23dce3f641b']\n",
      "Doc UUID 399153f7-6218-4b8e-86a2-20439ba14677\n",
      "Document IDs found: ['d99f7e96-1bea-4152-a297-07f25890c526', '53731afe-a0f2-4d7d-ba05-f0d0070d20ca', 'f33a3d7a-0dde-45bf-a04a-644b95ccae3c']\n",
      "Doc UUID dbe7b3df-dcd4-4348-aa71-b35b2bd34c76\n",
      "Document IDs found: ['f7c9c14b-b5d9-4a4c-8622-df2df7278a60', 'cc0b635f-71d3-46a2-b020-6affd8898546']\n",
      "Doc UUID 6ce40a2b-ed22-4866-9e26-e056cec196dd\n",
      "Document IDs found: ['f00afe97-64d4-4b03-be41-a7ded07a3122', 'cc0b635f-71d3-46a2-b020-6affd8898546', 'a02057e5-2840-4d16-8a1c-0a3ca2b7ec1e']\n",
      "Doc UUID fb54ffba-3979-4658-8514-4a3ee0059002\n",
      "Document IDs found: ['fb54ffba-3979-4658-8514-4a3ee0059002', '45079ffc-11a4-4ae9-9d15-f9b7cd09df6f', '0c6cb1d2-8923-4e8b-84d9-cfcbb339af10']\n",
      "Doc UUID e4610819-7083-41aa-90d4-25ace990c545\n",
      "Document IDs found: ['e4610819-7083-41aa-90d4-25ace990c545', 'da8f8057-d915-489a-88fd-8a7d4cfff982', '81fd9553-a91a-487b-a23c-7d6149bd6268']\n",
      "Doc UUID da8f8057-d915-489a-88fd-8a7d4cfff982\n",
      "Document IDs found: ['da8f8057-d915-489a-88fd-8a7d4cfff982', '0ccbf02b-6182-448d-b1fc-b4769f089a8d', 'cc0b635f-71d3-46a2-b020-6affd8898546']\n",
      "Doc UUID a839aee6-6ce2-4ff5-95ad-5aeb3784d584\n",
      "Document IDs found: ['04088c49-aae9-4222-a3bc-656165ce5fbb', '644a506d-8384-42cc-ba51-686807e28c41', '81fd9553-a91a-487b-a23c-7d6149bd6268']\n",
      "Doc UUID c18c1e7a-7c45-4cd8-b4bc-d3b84e2ece30\n",
      "Document IDs found: ['c18c1e7a-7c45-4cd8-b4bc-d3b84e2ece30', '65ebf390-3ca3-4bb5-a7a0-2bb3aa9d4345', '0fb01b51-616f-4b64-a8a7-f4533726e13e']\n",
      "Doc UUID fc92dfd1-fb27-4cf8-8763-4bafc6cd6951\n",
      "Document IDs found: ['b983ec62-02f2-4618-970a-47d0832aeb46', '9552e369-9888-4eab-a155-a0fc5da45d07', '81fd9553-a91a-487b-a23c-7d6149bd6268']\n",
      "Doc UUID 38216f39-cb2d-4d08-905b-3d6033e8697c\n",
      "Document IDs found: ['38216f39-cb2d-4d08-905b-3d6033e8697c', 'a02057e5-2840-4d16-8a1c-0a3ca2b7ec1e', 'cc0b635f-71d3-46a2-b020-6affd8898546']\n",
      "Doc UUID 41c717c0-80d6-492b-8bc7-1f769a5c06b8\n",
      "Document IDs found: ['41c717c0-80d6-492b-8bc7-1f769a5c06b8', 'c18c1e7a-7c45-4cd8-b4bc-d3b84e2ece30', 'dc2bc75d-d0fa-429d-8d8f-000819bc86a2']\n",
      "Doc UUID 441e489b-d46e-4538-bc20-209979053541\n",
      "Document IDs found: ['441e489b-d46e-4538-bc20-209979053541', '53731afe-a0f2-4d7d-ba05-f0d0070d20ca', 'cc0b635f-71d3-46a2-b020-6affd8898546']\n",
      "Doc UUID cfcddef5-5468-41e8-ac1b-5c49cee64c63\n",
      "Document IDs found: ['cfcddef5-5468-41e8-ac1b-5c49cee64c63', 'c18c1e7a-7c45-4cd8-b4bc-d3b84e2ece30', '1ff10630-d52c-4378-bd2b-c23dce3f641b']\n",
      "Doc UUID 85ebab92-0c56-4bf6-a7cf-bbf53089ce82\n",
      "Document IDs found: ['85ebab92-0c56-4bf6-a7cf-bbf53089ce82', '45079ffc-11a4-4ae9-9d15-f9b7cd09df6f', 'a02057e5-2840-4d16-8a1c-0a3ca2b7ec1e']\n",
      "Doc UUID 1dc7f2bb-f1b5-4a8b-94b8-3e1481793a04\n",
      "Document IDs found: ['1dc7f2bb-f1b5-4a8b-94b8-3e1481793a04', '0ccbf02b-6182-448d-b1fc-b4769f089a8d', '644a506d-8384-42cc-ba51-686807e28c41']\n",
      "Doc UUID b886d063-201d-485f-b7a2-57dd79aabf2b\n",
      "Document IDs found: ['b886d063-201d-485f-b7a2-57dd79aabf2b', '5aaec0dd-8b56-477d-ad77-3df52930f82c', '53731afe-a0f2-4d7d-ba05-f0d0070d20ca']\n",
      "Doc UUID 92800e12-a61b-4db1-a492-493a7d9a8449\n",
      "Document IDs found: ['92800e12-a61b-4db1-a492-493a7d9a8449', '53731afe-a0f2-4d7d-ba05-f0d0070d20ca', 'cc0b635f-71d3-46a2-b020-6affd8898546']\n",
      "Doc UUID 816694b2-8531-4a18-866c-2212e65beea6\n",
      "Document IDs found: ['e1232a72-7c13-4a09-8f83-7c48e08eccc7', '53731afe-a0f2-4d7d-ba05-f0d0070d20ca', 'a02057e5-2840-4d16-8a1c-0a3ca2b7ec1e']\n",
      "Doc UUID d57f9b4d-66e9-40f7-9df3-99c7b20f1402\n",
      "Document IDs found: ['d57f9b4d-66e9-40f7-9df3-99c7b20f1402', 'ab5a372a-136c-494d-ac12-1a61f31b0921', '1e03504e-aafb-4944-ad77-d0dda27c2659']\n",
      "Doc UUID 554045b9-96d7-4918-8ecc-e569e768163e\n",
      "Document IDs found: ['554045b9-96d7-4918-8ecc-e569e768163e', '4ddeda97-5d15-474e-b650-4428a6a19220', '4db75c0c-0b8b-41e1-ae45-b4958fb8262a']\n",
      "Doc UUID 81fd9553-a91a-487b-a23c-7d6149bd6268\n",
      "Document IDs found: ['81fd9553-a91a-487b-a23c-7d6149bd6268', '1e03504e-aafb-4944-ad77-d0dda27c2659', 'cc0b635f-71d3-46a2-b020-6affd8898546']\n",
      "Doc UUID 68bda8d8-c983-4d3f-b4a7-ab94cd6f1059\n",
      "Document IDs found: ['68bda8d8-c983-4d3f-b4a7-ab94cd6f1059', 'dc2bc75d-d0fa-429d-8d8f-000819bc86a2', '53731afe-a0f2-4d7d-ba05-f0d0070d20ca']\n",
      "Doc UUID 4db75c0c-0b8b-41e1-ae45-b4958fb8262a\n",
      "Document IDs found: ['4db75c0c-0b8b-41e1-ae45-b4958fb8262a', '0ccbf02b-6182-448d-b1fc-b4769f089a8d', '53731afe-a0f2-4d7d-ba05-f0d0070d20ca']\n",
      "Doc UUID 06be91b5-48d5-4970-8e8e-b4c319bec4df\n",
      "Document IDs found: ['06be91b5-48d5-4970-8e8e-b4c319bec4df', '4db75c0c-0b8b-41e1-ae45-b4958fb8262a', '41c717c0-80d6-492b-8bc7-1f769a5c06b8']\n",
      "Doc UUID 39e15c90-8b16-42ed-8384-4150290d9c55\n",
      "Document IDs found: ['39e15c90-8b16-42ed-8384-4150290d9c55', '0ccbf02b-6182-448d-b1fc-b4769f089a8d', 'f33a3d7a-0dde-45bf-a04a-644b95ccae3c']\n",
      "Doc UUID e38c3d32-e64f-46a8-90cb-c4662401acf5\n",
      "Document IDs found: ['e38c3d32-e64f-46a8-90cb-c4662401acf5', '53731afe-a0f2-4d7d-ba05-f0d0070d20ca', 'ab5a372a-136c-494d-ac12-1a61f31b0921']\n",
      "Doc UUID 18f68f59-7614-4da8-ba9f-fef3cc432222\n",
      "Document IDs found: ['18f68f59-7614-4da8-ba9f-fef3cc432222', 'b886d063-201d-485f-b7a2-57dd79aabf2b', '1ff10630-d52c-4378-bd2b-c23dce3f641b']\n",
      "Doc UUID fb2fd2f1-953c-4e71-a51a-1336a455e7e4\n",
      "Document IDs found: ['fb2fd2f1-953c-4e71-a51a-1336a455e7e4', 'b886d063-201d-485f-b7a2-57dd79aabf2b', '4db75c0c-0b8b-41e1-ae45-b4958fb8262a']\n",
      "Doc UUID a591d84b-a544-40cb-bf50-386addce52b4\n",
      "Document IDs found: ['a591d84b-a544-40cb-bf50-386addce52b4', 'a02057e5-2840-4d16-8a1c-0a3ca2b7ec1e', 'c18c1e7a-7c45-4cd8-b4bc-d3b84e2ece30']\n",
      "Doc UUID 0fb01b51-616f-4b64-a8a7-f4533726e13e\n",
      "Document IDs found: ['0e6ba3f4-df93-4c84-8c56-73f59776b5d1', '1ff10630-d52c-4378-bd2b-c23dce3f641b', 'a19a8509-5f63-4ea6-909e-08ad80121946']\n",
      "Doc UUID d54ac89b-d186-40dd-8c78-71ce39fd1cc9\n",
      "Document IDs found: ['d54ac89b-d186-40dd-8c78-71ce39fd1cc9', '751ac79d-2279-4d0e-9855-654cf937a3b2', '53731afe-a0f2-4d7d-ba05-f0d0070d20ca']\n",
      "Doc UUID 0c2bbf8a-8dee-4016-8841-aba7b834d062\n",
      "Document IDs found: ['470ff425-c9bf-4ca8-ad63-b31d68cc4f8e', '81fd9553-a91a-487b-a23c-7d6149bd6268']\n",
      "Doc UUID 8cb395ae-e154-4795-8f37-7a2ee850c44d\n",
      "Document IDs found: ['8cb395ae-e154-4795-8f37-7a2ee850c44d', '0ccbf02b-6182-448d-b1fc-b4769f089a8d', '6da51852-3896-4209-abc3-cc0f031f4208']\n",
      "Doc UUID c0b8dd92-4a2f-41c6-8d1c-48576197beee\n",
      "Document IDs found: ['470ff425-c9bf-4ca8-ad63-b31d68cc4f8e', '0fb01b51-616f-4b64-a8a7-f4533726e13e', '1ff10630-d52c-4378-bd2b-c23dce3f641b']\n"
     ]
    }
   ],
   "source": [
    "client = QuiddityClient(username=\"andrii\", password=\"1234qwerty\", api_base=\"http://localhost:56440\", organization_id=1)\n",
    "evaluator = QuiddityEvaluator(client=client)\n",
    "res = evaluator.evaluate(\"fairly-trusty-liger\") # id of evaluation dataset on s3"
   ]
  },
  {
   "cell_type": "code",
   "execution_count": 7,
   "metadata": {},
   "outputs": [
    {
     "data": {
      "text/plain": [
       "0.7435897435897436"
      ]
     },
     "execution_count": 7,
     "metadata": {},
     "output_type": "execute_result"
    }
   ],
   "source": [
    "sum([r['is_correct'] for r in res]) / len(res)"
   ]
  }
 ],
 "metadata": {
  "kernelspec": {
   "display_name": "py311",
   "language": "python",
   "name": "python3"
  },
  "language_info": {
   "codemirror_mode": {
    "name": "ipython",
    "version": 3
   },
   "file_extension": ".py",
   "mimetype": "text/x-python",
   "name": "python",
   "nbconvert_exporter": "python",
   "pygments_lexer": "ipython3",
   "version": "3.11.5"
  }
 },
 "nbformat": 4,
 "nbformat_minor": 2
}
